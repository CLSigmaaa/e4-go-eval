{
 "cells": [
  {
   "cell_type": "code",
   "execution_count": 29,
   "metadata": {},
   "outputs": [],
   "source": [
    "from collections import deque"
   ]
  },
  {
   "cell_type": "code",
   "execution_count": 30,
   "metadata": {},
   "outputs": [
    {
     "data": {
      "text/plain": [
       "[['W', 'W', 'W', 'W', 'W', 'W', 'W', 'W', 'W', 'W'],\n",
       " ['W', ' ', ' ', ' ', ' ', ' ', ' ', ' ', ' ', 'W'],\n",
       " ['W', ' ', ' ', ' ', ' ', ' ', 'W', ' ', ' ', 'W'],\n",
       " ['W', ' ', ' ', ' ', ' ', ' ', 'W', ' ', ' ', 'W'],\n",
       " ['W', ' ', ' ', ' ', 'W', 'W', 'W', 'W', ' ', 'W'],\n",
       " ['W', ' ', ' ', ' ', ' ', ' ', 'W', 'W', ' ', 'W'],\n",
       " ['W', ' ', ' ', ' ', ' ', ' ', 'W', ' ', ' ', 'W'],\n",
       " ['W', ' ', ' ', ' ', ' ', ' ', 'W', 'W', ' ', 'W'],\n",
       " ['W', ' ', ' ', ' ', ' ', ' ', 'W', ' ', ' ', 'W'],\n",
       " ['W', 'W', 'W', 'W', 'W', 'W', 'W', 'W', 'W', 'W']]"
      ]
     },
     "execution_count": 30,
     "metadata": {},
     "output_type": "execute_result"
    }
   ],
   "source": [
    "map = [\n",
    "    ['W', 'W', 'W', 'W', 'W', 'W', 'W', 'W', 'W', 'W'],\n",
    "    ['W', ' ', ' ', ' ', ' ', ' ', ' ', ' ', ' ', 'W'],\n",
    "    ['W', ' ', ' ', ' ', ' ', ' ', 'W', ' ', ' ', 'W'],\n",
    "    ['W', ' ', ' ', ' ', ' ', ' ', 'W', ' ', ' ', 'W'],\n",
    "    ['W', ' ', ' ', ' ', 'W', 'W', 'W', 'W', ' ', 'W'],\n",
    "    ['W', ' ', ' ', ' ', ' ', ' ', 'W', 'W', ' ', 'W'],\n",
    "    ['W', ' ', ' ', ' ', ' ', ' ', 'W', ' ', ' ', 'W'],\n",
    "    ['W', ' ', ' ', ' ', ' ', ' ', 'W', 'W', ' ', 'W'],\n",
    "    ['W', ' ', ' ', ' ', ' ', ' ', 'W', ' ', ' ', 'W'],\n",
    "    ['W', 'W', 'W', 'W', 'W', 'W', 'W', 'W', 'W', 'W']\n",
    "]\n",
    "map"
   ]
  },
  {
   "cell_type": "code",
   "execution_count": 31,
   "metadata": {},
   "outputs": [],
   "source": [
    "def get_neighbors(cell, map):\n",
    "    x, y = cell\n",
    "    neighbors = [(x-1, y), (x+1, y), (x, y-1), (x, y+1), (x-1, y-1), (x+1, y+1)]\n",
    "    res = []\n",
    "    for neighbor in neighbors:\n",
    "        if 0 < neighbor[0] < len(map[0]) and 0 < neighbor[1] < len(map):\n",
    "            if map[neighbor[0]][neighbor[1]] != 'W':\n",
    "                res.append(neighbor)\n",
    "    return res\n",
    "\n",
    "def bfs(start, end, map):\n",
    "    if start == end:\n",
    "        return [start]\n",
    "    \n",
    "    queue = deque([(start, [])])\n",
    "    visited = set()\n",
    "    while queue:\n",
    "        pos, path = queue.popleft()\n",
    "        visited.add(pos)\n",
    "        adj_neighbors = get_neighbors(pos, map)\n",
    "        for neighbor in adj_neighbors:\n",
    "            if neighbor == end:\n",
    "                print(path[1])\n",
    "                return path + [neighbor]\n",
    "            if neighbor not in visited:\n",
    "                queue.append((neighbor, path + [pos]))\n",
    "    return None"
   ]
  },
  {
   "cell_type": "code",
   "execution_count": 32,
   "metadata": {},
   "outputs": [
    {
     "name": "stdout",
     "output_type": "stream",
     "text": [
      "(1, 2)\n",
      "[(1, 1), (1, 2), (1, 3), (1, 4), (1, 5), (1, 6), (2, 7), (3, 7), (4, 8), (5, 8), (6, 8), (8, 8)]\n"
     ]
    },
    {
     "data": {
      "text/plain": [
       "[['W', 'W', 'W', 'W', 'W', 'W', 'W', 'W', 'W', 'W'],\n",
       " ['W', 'P', 'P', 'P', 'P', 'P', 'P', ' ', ' ', 'W'],\n",
       " ['W', ' ', ' ', ' ', ' ', ' ', 'W', 'P', ' ', 'W'],\n",
       " ['W', ' ', ' ', ' ', ' ', ' ', 'W', 'P', ' ', 'W'],\n",
       " ['W', ' ', ' ', ' ', 'W', 'W', 'W', 'W', 'P', 'W'],\n",
       " ['W', ' ', ' ', ' ', ' ', ' ', 'W', 'W', 'P', 'W'],\n",
       " ['W', ' ', ' ', ' ', ' ', ' ', 'W', ' ', 'P', 'W'],\n",
       " ['W', ' ', ' ', ' ', ' ', ' ', 'W', 'W', ' ', 'W'],\n",
       " ['W', ' ', ' ', ' ', ' ', ' ', 'W', ' ', 'P', 'W'],\n",
       " ['W', 'W', 'W', 'W', 'W', 'W', 'W', 'W', 'W', 'W']]"
      ]
     },
     "execution_count": 32,
     "metadata": {},
     "output_type": "execute_result"
    }
   ],
   "source": [
    "shortest_path = bfs((1, 1), (8, 8), map)\n",
    "print(shortest_path)\n",
    "for cell in shortest_path:\n",
    "    x, y = cell\n",
    "    map[x][y] = 'P'\n",
    "\n",
    "map"
   ]
  }
 ],
 "metadata": {
  "kernelspec": {
   "display_name": "Python 3",
   "language": "python",
   "name": "python3"
  },
  "language_info": {
   "codemirror_mode": {
    "name": "ipython",
    "version": 3
   },
   "file_extension": ".py",
   "mimetype": "text/x-python",
   "name": "python",
   "nbconvert_exporter": "python",
   "pygments_lexer": "ipython3",
   "version": "3.8.0"
  }
 },
 "nbformat": 4,
 "nbformat_minor": 2
}
