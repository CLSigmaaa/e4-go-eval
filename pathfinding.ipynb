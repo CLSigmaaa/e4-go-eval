{
 "cells": [
  {
   "cell_type": "code",
   "execution_count": 170,
   "metadata": {},
   "outputs": [],
   "source": [
    "from collections import deque"
   ]
  },
  {
   "cell_type": "code",
   "execution_count": 171,
   "metadata": {},
   "outputs": [
    {
     "data": {
      "text/plain": [
       "[['W', 'W', 'W', 'W', 'W', 'W', 'W', 'W', 'W', 'W'],\n",
       " ['W', ' ', ' ', ' ', ' ', ' ', 'W', ' ', ' ', 'W'],\n",
       " ['W', ' ', ' ', ' ', ' ', ' ', 'W', ' ', ' ', 'W'],\n",
       " ['W', ' ', ' ', ' ', ' ', ' ', 'W', ' ', ' ', 'W'],\n",
       " ['W', ' ', ' ', ' ', 'W', 'W', 'W', 'W', ' ', 'W'],\n",
       " ['W', ' ', ' ', ' ', ' ', ' ', 'W', 'W', ' ', 'W'],\n",
       " ['W', ' ', ' ', ' ', ' ', ' ', 'W', ' ', ' ', 'W'],\n",
       " ['W', ' ', ' ', ' ', ' ', ' ', 'W', 'W', ' ', 'W'],\n",
       " ['W', ' ', ' ', ' ', ' ', ' ', 'W', ' ', ' ', 'W'],\n",
       " ['W', 'W', 'W', 'W', 'W', 'W', 'W', 'W', 'W', 'W']]"
      ]
     },
     "execution_count": 171,
     "metadata": {},
     "output_type": "execute_result"
    }
   ],
   "source": [
    "map = [\n",
    "    ['W', 'W', 'W', 'W', 'W', 'W', 'W', 'W', 'W', 'W'],\n",
    "    ['W', ' ', ' ', ' ', ' ', ' ', 'W', ' ', ' ', 'W'],\n",
    "    ['W', ' ', ' ', ' ', ' ', ' ', 'W', ' ', ' ', 'W'],\n",
    "    ['W', ' ', ' ', ' ', ' ', ' ', 'W', ' ', ' ', 'W'],\n",
    "    ['W', ' ', ' ', ' ', 'W', 'W', 'W', 'W', ' ', 'W'],\n",
    "    ['W', ' ', ' ', ' ', ' ', ' ', 'W', 'W', ' ', 'W'],\n",
    "    ['W', ' ', ' ', ' ', ' ', ' ', 'W', ' ', ' ', 'W'],\n",
    "    ['W', ' ', ' ', ' ', ' ', ' ', 'W', 'W', ' ', 'W'],\n",
    "    ['W', ' ', ' ', ' ', ' ', ' ', 'W', ' ', ' ', 'W'],\n",
    "    ['W', 'W', 'W', 'W', 'W', 'W', 'W', 'W', 'W', 'W']\n",
    "]\n",
    "map"
   ]
  },
  {
   "cell_type": "code",
   "execution_count": 172,
   "metadata": {},
   "outputs": [
    {
     "data": {
      "text/plain": [
       "deque([1, 2, 3, 4])"
      ]
     },
     "execution_count": 172,
     "metadata": {},
     "output_type": "execute_result"
    }
   ],
   "source": [
    "queue = deque([1, 2, 3, 4])\n",
    "queue"
   ]
  },
  {
   "cell_type": "code",
   "execution_count": 173,
   "metadata": {},
   "outputs": [
    {
     "data": {
      "text/plain": [
       "deque([1, 2, 3, 4, 5])"
      ]
     },
     "execution_count": 173,
     "metadata": {},
     "output_type": "execute_result"
    }
   ],
   "source": [
    "queue.append(5)\n",
    "queue"
   ]
  },
  {
   "cell_type": "code",
   "execution_count": 174,
   "metadata": {},
   "outputs": [
    {
     "data": {
      "text/plain": [
       "1"
      ]
     },
     "execution_count": 174,
     "metadata": {},
     "output_type": "execute_result"
    }
   ],
   "source": [
    "queue.popleft()"
   ]
  },
  {
   "cell_type": "code",
   "execution_count": 175,
   "metadata": {},
   "outputs": [
    {
     "data": {
      "text/plain": [
       "10"
      ]
     },
     "execution_count": 175,
     "metadata": {},
     "output_type": "execute_result"
    }
   ],
   "source": [
    "len(map[0])\n",
    "len(map)"
   ]
  },
  {
   "cell_type": "code",
   "execution_count": 176,
   "metadata": {},
   "outputs": [],
   "source": [
    "def get_neighbors(cell, map):\n",
    "    x, y = cell\n",
    "    neighbors = [(x-1, y), (x+1, y), (x, y-1), (x, y+1), (x-1, y-1), (x+1, y+1)]\n",
    "    res = []\n",
    "    for neighbor in neighbors:\n",
    "        if 0 < neighbor[0] < len(map[0]) and 0 < neighbor[1] < len(map):\n",
    "            if map[neighbor[0]][neighbor[1]] != 'W':\n",
    "                res.append(neighbor)\n",
    "    return res\n",
    "\n",
    "def bfs(start, end, map):\n",
    "    queue = deque([(start, [])])\n",
    "    visited = set()\n",
    "    while queue:\n",
    "        pos, path = queue.popleft()\n",
    "        path.append(pos)\n",
    "        visited.add(pos)\n",
    "        adj_neighbors = get_neighbors(pos, map)\n",
    "        for neighbor in adj_neighbors:\n",
    "            if neighbor == end:\n",
    "                return path\n",
    "            if neighbor not in visited:\n",
    "                queue.append((neighbor, path + [pos]))\n",
    "    return None"
   ]
  },
  {
   "cell_type": "code",
   "execution_count": 177,
   "metadata": {},
   "outputs": [
    {
     "ename": "TypeError",
     "evalue": "'NoneType' object is not iterable",
     "output_type": "error",
     "traceback": [
      "\u001b[1;31m---------------------------------------------------------------------------\u001b[0m",
      "\u001b[1;31mTypeError\u001b[0m                                 Traceback (most recent call last)",
      "Cell \u001b[1;32mIn[177], line 3\u001b[0m\n\u001b[0;32m      1\u001b[0m shortest_path \u001b[38;5;241m=\u001b[39m bfs((\u001b[38;5;241m1\u001b[39m, \u001b[38;5;241m1\u001b[39m), (\u001b[38;5;241m8\u001b[39m, \u001b[38;5;241m8\u001b[39m), \u001b[38;5;28mmap\u001b[39m)\n\u001b[0;32m      2\u001b[0m shortest_path\n\u001b[1;32m----> 3\u001b[0m \u001b[38;5;28;01mfor\u001b[39;00m cell \u001b[38;5;129;01min\u001b[39;00m shortest_path:\n\u001b[0;32m      4\u001b[0m     x, y \u001b[38;5;241m=\u001b[39m cell\n\u001b[0;32m      5\u001b[0m     \u001b[38;5;28mmap\u001b[39m[x][y] \u001b[38;5;241m=\u001b[39m \u001b[38;5;124m'\u001b[39m\u001b[38;5;124mP\u001b[39m\u001b[38;5;124m'\u001b[39m\n",
      "\u001b[1;31mTypeError\u001b[0m: 'NoneType' object is not iterable"
     ]
    }
   ],
   "source": [
    "shortest_path = bfs((1, 1), (8, 8), map)\n",
    "shortest_path\n",
    "for cell in shortest_path:\n",
    "    x, y = cell\n",
    "    map[x][y] = 'P'\n",
    "\n",
    "map"
   ]
  },
  {
   "cell_type": "code",
   "execution_count": null,
   "metadata": {},
   "outputs": [],
   "source": [
    "from collections import deque\n",
    "\n",
    "class Pathfinding:\n",
    "    def __init__(self, game) -> None:\n",
    "        self.map = self.game.map\n",
    "        self.possible_movements = [(x-1, y), (x+1, y), (x, y-1), (x, y+1), (x-1, y-1), (x+1, y+1)]\n",
    "        "
   ]
  }
 ],
 "metadata": {
  "kernelspec": {
   "display_name": "Python 3",
   "language": "python",
   "name": "python3"
  },
  "language_info": {
   "codemirror_mode": {
    "name": "ipython",
    "version": 3
   },
   "file_extension": ".py",
   "mimetype": "text/x-python",
   "name": "python",
   "nbconvert_exporter": "python",
   "pygments_lexer": "ipython3",
   "version": "3.8.0"
  }
 },
 "nbformat": 4,
 "nbformat_minor": 2
}
