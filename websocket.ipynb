{
 "cells": [
  {
   "cell_type": "code",
   "execution_count": null,
   "metadata": {},
   "outputs": [],
   "source": [
    "import socket"
   ]
  },
  {
   "cell_type": "code",
   "execution_count": null,
   "metadata": {},
   "outputs": [],
   "source": [
    "HOST = '127.0.0.1'\n",
    "PORT = 8080"
   ]
  },
  {
   "cell_type": "code",
   "execution_count": null,
   "metadata": {},
   "outputs": [],
   "source": [
    "# connect to the api server on /ws endpoint\n",
    "with socket.socket(socket.AF_INET, socket.SOCK_STREAM) as s:\n",
    "    s.connect((HOST, PORT))\n",
    "    s.sendall(b'GET /ws HTTP/1.1\\r\\n\\r\\n')\n",
    "    data = s.recv(1024)\n",
    "    print('Received', repr(data))\n",
    "    \n"
   ]
  },
  {
   "cell_type": "code",
   "execution_count": null,
   "metadata": {},
   "outputs": [],
   "source": [
    "import websocket\n",
    "import threading\n",
    "import json\n",
    "\n",
    "class WebSocketClient:\n",
    "    def __init__(self, url):\n",
    "        self.url = url\n",
    "        self.ws = None\n",
    "\n",
    "    def connect(self):\n",
    "        self.ws = websocket.WebSocketApp(self.url, \n",
    "                                    on_open=self.on_open,\n",
    "                                    on_message=self.on_message,\n",
    "                                    on_error=self.on_error,\n",
    "                                    on_close=self.on_close)\n",
    "        \n",
    "        self.wst = threading.Thread(target=self.ws.run_forever)\n",
    "        self.wst.daemon = True\n",
    "        self.wst.start()\n",
    "        \n",
    "    def on_open(self, ws):\n",
    "        print(\"Connection opened\")\n",
    "\n",
    "    def on_message(self, ws, message):\n",
    "        print(f\"Received message: {message}\")\n",
    "        \n",
    "    def send(self, data):\n",
    "        self.ws.send(json.dumps(data))\n",
    "\n",
    "    def on_error(self, ws, error):\n",
    "        print(f\"Error: {error}\")\n",
    "\n",
    "    def on_close(self, ws):\n",
    "        print(\"Connection closed\")\n",
    "\n",
    "if __name__ == \"__main__\":\n",
    "    client = WebSocketClient(\"ws://localhost:8080/ws\")\n",
    "    client.connect()"
   ]
  },
  {
   "cell_type": "code",
   "execution_count": null,
   "metadata": {},
   "outputs": [],
   "source": [
    "while True:\n",
    "    json_data = {\n",
    "    \"type\": \"message\",\n",
    "    \"content\": \"Hello, world!\"\n",
    "    }\n",
    "    client.send(json_data)"
   ]
  },
  {
   "cell_type": "code",
   "execution_count": null,
   "metadata": {},
   "outputs": [],
   "source": [
    "import websocket\n",
    "import threading\n",
    "import json\n",
    "\n",
    "class WebSocketClient:\n",
    "    def __init__(self, url):\n",
    "        self.url = url\n",
    "        self.ws = None\n",
    "        self.connect()\n",
    "\n",
    "    def connect(self):\n",
    "        self.ws = websocket.WebSocketApp(self.url, \n",
    "                                    on_open=self.on_open,\n",
    "                                    on_message=self.on_message,\n",
    "                                    on_error=self.on_error,\n",
    "                                    on_close=self.on_close)\n",
    "        \n",
    "        self.wst = threading.Thread(target=self.ws.run_forever)\n",
    "        self.wst.daemon = True\n",
    "        self.wst.start()\n",
    "        \n",
    "    def on_open(self, ws):\n",
    "        print(\"Connection opened\")\n",
    "\n",
    "    def on_message(self, ws, message):\n",
    "        print(f\"Received message: {message}\")\n",
    "        \n",
    "    def send(self, data):\n",
    "        self.ws.send(json.dumps(data))\n",
    "\n",
    "    def on_error(self, ws, error):\n",
    "        print(f\"Error: {error}\")\n",
    "\n",
    "    def on_close(self, ws):\n",
    "        print(\"Connection closed\")\n",
    "\n",
    "if __name__ == \"__main__\":\n",
    "    client = WebSocketClient(\"ws://localhost:8080/ws\")"
   ]
  }
 ],
 "metadata": {
  "kernelspec": {
   "display_name": "Python 3",
   "language": "python",
   "name": "python3"
  },
  "language_info": {
   "codemirror_mode": {
    "name": "ipython",
    "version": 3
   },
   "file_extension": ".py",
   "mimetype": "text/x-python",
   "name": "python",
   "nbconvert_exporter": "python",
   "pygments_lexer": "ipython3",
   "version": "3.8.0"
  }
 },
 "nbformat": 4,
 "nbformat_minor": 2
}
